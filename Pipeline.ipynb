{
 "cells": [
  {
   "cell_type": "code",
   "execution_count": 32,
   "id": "3c312fe6",
   "metadata": {},
   "outputs": [],
   "source": [
    "import torch\n",
    "import torch.nn as nn\n",
    "from transformers import BertModel, BertTokenizer\n",
    "import warnings\n",
    "warnings.filterwarnings(\"ignore\")\n",
    "import re"
   ]
  },
  {
   "cell_type": "code",
   "execution_count": 7,
   "id": "9bb447a6",
   "metadata": {},
   "outputs": [],
   "source": [
    "class BERT_Arch(nn.Module):\n",
    "\n",
    "    def __init__(self, bert):\n",
    "        super(BERT_Arch, self).__init__()\n",
    "        self.bert = BertModel.from_pretrained('bert-base-uncased')\n",
    "        self.dropout = nn.Dropout(0.1)\n",
    "        self.relu = nn.ReLU()\n",
    "        self.fc1 = nn.Linear(768, 512)\n",
    "        self.fc2 = nn.Linear(512, 6)  # Adjust the number of output neurons for 123 classes\n",
    "        self.log_softmax = nn.LogSoftmax(dim=1)  # Use dim=1 for LogSoftmax in classification\n",
    "\n",
    "    def forward(self, sent_id, mask):\n",
    "        sent_id = torch.tensor(sent_id)\n",
    "        outputs = self.bert(input_ids=sent_id, attention_mask=mask)\n",
    "        last_hidden_state_cls = outputs[0][:, 0, :]\n",
    "        x = self.fc1(last_hidden_state_cls)\n",
    "        x = self.relu(x)\n",
    "        x = self.dropout(x)\n",
    "        x = self.fc2(x)\n",
    "        x = self.log_softmax(x)\n",
    "        return x"
   ]
  },
  {
   "cell_type": "code",
   "execution_count": 33,
   "id": "a3ea875a",
   "metadata": {},
   "outputs": [],
   "source": [
    "def get_output(text):\n",
    "    tokenizer = BertTokenizer.from_pretrained('bert-base-uncased')\n",
    "    my_dict = {\n",
    "            0:'Sad', 1:'Happy', 2:'Happy', 3: 'Sad', 4: 'Fear', 5:'Suprise'\n",
    "    }\n",
    "    \n",
    "    def NLP_cleaning(text):\n",
    "        sent = text\n",
    "        sent = re.sub('<[^>]*>', '', sent)\n",
    "        sent = re.sub('[^a-zA-z0-9]', ' ', sent)\n",
    "        sent = sent.lower()\n",
    "        return sent\n",
    "    \n",
    "    def load_checkpoint(filepath):\n",
    "        checkpoint = torch.load(filepath, map_location=torch.device('cpu'))\n",
    "        model = checkpoint['model']\n",
    "        model.load_state_dict(checkpoint['state_dict'])\n",
    "        for parameter in model.parameters():\n",
    "            parameter.requires_grad = False\n",
    "        model.eval()\n",
    "        return model\n",
    "    \n",
    "    model = load_checkpoint('checkpoint.pth')\n",
    "    device = 'cpu'\n",
    "    \n",
    "    def Predict(text):\n",
    "        encoded_review = tokenizer.encode_plus(\n",
    "          text,\n",
    "          max_length=256,\n",
    "          truncation = True,\n",
    "          add_special_tokens=True,\n",
    "          return_token_type_ids=False,\n",
    "          padding = 'max_length',\n",
    "          return_attention_mask=True,\n",
    "          return_tensors='pt',\n",
    "        )\n",
    "\n",
    "        input_ids = encoded_review['input_ids'].to(device)\n",
    "        attention_mask = encoded_review['attention_mask'].to(device)\n",
    "        output = model(input_ids, attention_mask)\n",
    "        _, prediction = torch.max(output, dim=1)\n",
    "        extracted_value = prediction.item()\n",
    "        return extracted_value\n",
    "    \n",
    "    preprocessed = NLP_cleaning(text)\n",
    "    output = Predict(preprocessed)\n",
    "    return my_dict[output]"
   ]
  },
  {
   "cell_type": "code",
   "execution_count": 40,
   "id": "7f36646f",
   "metadata": {},
   "outputs": [
    {
     "data": {
      "text/plain": [
       "'Sad'"
      ]
     },
     "execution_count": 40,
     "metadata": {},
     "output_type": "execute_result"
    }
   ],
   "source": [
    "ans = get_output(\"i hate life\")\n",
    "ans"
   ]
  }
 ],
 "metadata": {
  "kernelspec": {
   "display_name": "Python 3 (ipykernel)",
   "language": "python",
   "name": "python3"
  },
  "language_info": {
   "codemirror_mode": {
    "name": "ipython",
    "version": 3
   },
   "file_extension": ".py",
   "mimetype": "text/x-python",
   "name": "python",
   "nbconvert_exporter": "python",
   "pygments_lexer": "ipython3",
   "version": "3.11.4"
  }
 },
 "nbformat": 4,
 "nbformat_minor": 5
}
